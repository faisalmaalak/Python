{
  "cells": [
    {
      "cell_type": "markdown",
      "metadata": {
        "id": "view-in-github",
        "colab_type": "text"
      },
      "source": [
        "<a href=\"https://colab.research.google.com/github/faisalmaalak/Python/blob/main/Astonaunts_in_space.ipynb\" target=\"_parent\"><img src=\"https://colab.research.google.com/assets/colab-badge.svg\" alt=\"Open In Colab\"/></a>"
      ]
    },
    {
      "cell_type": "code",
      "source": [
        "#python code that Prints out list of all Austronaunts in the Space for the current time being\n",
        "\n",
        "import requests\n",
        "import json\n",
        "\n",
        "#api to get the data\n",
        "response = requests.get(\"http://api.open-notify.org/astros.json\")\n",
        "people = (response.json()['people'])\n",
        "\n",
        "astro_list = []\n",
        "craft_list =[]\n",
        "\n",
        "for i in people:\n",
        "\ta= i.get('name')\n",
        "\tb= i.get('craft')\n",
        "\tastronaunts = astro_list.append(a)\n",
        "\tcreq_craft = craft_list.append(b)\n",
        "\n",
        "#Print the Names & Craft as lists of Astronants out in Space\n",
        "#print(astro_list)\n",
        "#print (craft_list)\n",
        "\n",
        "\n",
        "\n",
        "'''in order to export it as Table representing Austronaunts' Craft and Name here we go\n",
        "'''\n",
        "\n",
        "import pandas as pd\n",
        "astronaunt = pd.DataFrame(list(zip(craft_list,astro_list)), columns  = ['Craft','Name'])\n",
        "\n",
        "print(astronaunt)\n"
      ],
      "metadata": {
        "id": "Hrbsp6iS5EKV",
        "outputId": "2351146b-4006-4697-8389-83edc853cb15",
        "colab": {
          "base_uri": "https://localhost:8080/"
        }
      },
      "execution_count": 1,
      "outputs": [
        {
          "output_type": "stream",
          "name": "stdout",
          "text": [
            "       Craft                Name\n",
            "0        ISS    Sergey Prokopyev\n",
            "1        ISS      Dmitry Petelin\n",
            "2        ISS         Frank Rubio\n",
            "3   Tiangong        Jing Haiping\n",
            "4   Tiangong         Gui Haichow\n",
            "5   Tiangong         Zhu Yangzhu\n",
            "6        ISS     Jasmin Moghbeli\n",
            "7        ISS    Andreas Mogensen\n",
            "8        ISS    Satoshi Furukawa\n",
            "9        ISS  Konstantin Borisov\n",
            "10       ISS      Oleg Kononenko\n",
            "11       ISS        Nikolai Chub\n",
            "12       ISS        Loral O'Hara\n"
          ]
        }
      ]
    }
  ],
  "metadata": {
    "colab": {
      "name": "Welcome to Colaboratory",
      "toc_visible": true,
      "provenance": [],
      "include_colab_link": true
    },
    "kernelspec": {
      "display_name": "Python 3",
      "name": "python3"
    }
  },
  "nbformat": 4,
  "nbformat_minor": 0
}